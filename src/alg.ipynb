{
 "cells": [
  {
   "cell_type": "code",
   "execution_count": 1,
   "metadata": {},
   "outputs": [
    {
     "name": "stdout",
     "output_type": "stream",
     "text": [
      "no display found. Using non-interactive Agg backend\n"
     ]
    }
   ],
   "source": [
    "import sys\n",
    "import networkx as nx\n",
    "import matplotlib.pyplot as plt\n",
    "from ndlib.viz.mpl.DiffusionTrend import DiffusionTrend\n",
    "\n",
    "import ndlib.models.epidemics.SISModel as sis\n",
    "\n",
    "import random\n",
    "import ndlib.models.epidemics.SIModel as si\n",
    "import ndlib.models.ModelConfig as mc\n",
    "import numpy as np\n",
    "import pandas as pd\n",
    "\n",
    "result_list={}\n",
    "trend_list={}\n",
    "output_list={}"
   ]
  },
  {
   "cell_type": "code",
   "execution_count": 2,
   "metadata": {},
   "outputs": [],
   "source": [
    "%matplotlib notebook"
   ]
  },
  {
   "cell_type": "code",
   "execution_count": 3,
   "metadata": {
    "pycharm": {
     "name": "#%%\n"
    }
   },
   "outputs": [],
   "source": [
    "net_name='blogs'"
   ]
  },
  {
   "cell_type": "code",
   "execution_count": 4,
   "metadata": {},
   "outputs": [],
   "source": [
    "file_name='../dataset/'+net_name\n",
    "%run '../dataset/quick_process.py' {file_name}"
   ]
  },
  {
   "cell_type": "code",
   "execution_count": 5,
   "metadata": {},
   "outputs": [],
   "source": [
    "def drawCutEdge(edgeList,G,method_name):\n",
    "    node_final=[]\n",
    "    len_edgeList=len(edgeList)\n",
    "    for pct in [0.1,0.2,0.3,0.4,0.5,0.6,0.7,0.8,0.9]:\n",
    "        temp=G.copy()\n",
    "        if (G.number_of_edges()*pct>len_edgeList):break\n",
    "        for i in range(round(G.number_of_edges()*pct)):\n",
    "            temp.remove_edge(str(int(edgeList[i][0])),str(int(edgeList[i][1])))\n",
    "        # Model selection\n",
    "        model = sis(temp)\n",
    "        # Model Configuration\n",
    "        cfg = mc.Configuration()\n",
    "        cfg.add_model_parameter('beta', 0.01)\n",
    "        cfg.add_model_parameter('lambda', 0.005)\n",
    "        cfg.add_model_parameter(\"percentage_infected\", 0.05)\n",
    "        model.set_initial_status(cfg)\n",
    "        iterations = model.iteration_bunch(1000)\n",
    "        trends = model.build_trends(iterations)\n",
    "        viz = DiffusionTrend(model, trends)\n",
    "#         viz.plot()\n",
    "    \n",
    "        node_final.append(trends[0]['trends']['node_count'][0][len(trends[0]['trends']['node_count'][0])-30]/G.number_of_nodes())\n",
    "        trend_list[pct]=trends[0]['trends']['node_count'][0]\n",
    "\n",
    "\n",
    "        print(\"pct of edge deleted:\"+str(pct))\n",
    "#     plt.show()\n",
    "#     plt.ylim(0,1)\n",
    "#     plt.plot(node_final)\n",
    "    #result_list.append(node_final)\n",
    "    result_list[method_name]=node_final\n",
    "#     plt.show()\n",
    "    "
   ]
  },
  {
   "cell_type": "code",
   "execution_count": 6,
   "metadata": {},
   "outputs": [],
   "source": [
    "def drawCutNode(nodeList,G,method_name):\n",
    "    node_final=[]\n",
    "    temp=G.copy()\n",
    "    edgeNum_raw=G.number_of_edges()\n",
    "    edgeNum_pre=edgeNum_raw\n",
    "    edgeNum_now=edgeNum_raw\n",
    "    pct=1\n",
    "    for i in range(len(nodeList[0])-1):\n",
    "        edgeNum_pre=edgeNum_now\n",
    "        temp.remove_node(str(int(nodeList[0][i])))\n",
    "        #print(str(int(degree_centrality[0][i])))\n",
    "        edgeNum_now=temp.number_of_edges()\n",
    "        #print(edgeNum_now)\n",
    "        if ((edgeNum_pre>(edgeNum_raw*0.9))&(edgeNum_now<(edgeNum_raw*0.9)))\\\n",
    "        |((edgeNum_pre>(edgeNum_raw*0.8))&(edgeNum_now<(edgeNum_raw*0.8)))\\\n",
    "        |((edgeNum_pre>(edgeNum_raw*0.7))&(edgeNum_now<(edgeNum_raw*0.7)))\\\n",
    "        |((edgeNum_pre>(edgeNum_raw*0.6))&(edgeNum_now<(edgeNum_raw*0.6)))\\\n",
    "        |((edgeNum_pre>(edgeNum_raw*0.5))&(edgeNum_now<(edgeNum_raw*0.5)))\\\n",
    "        |((edgeNum_pre>(edgeNum_raw*0.4))&(edgeNum_now<(edgeNum_raw*0.4)))\\\n",
    "        |((edgeNum_pre>(edgeNum_raw*0.3))&(edgeNum_now<(edgeNum_raw*0.3)))\\\n",
    "        |((edgeNum_pre>(edgeNum_raw*0.2))&(edgeNum_now<(edgeNum_raw*0.2)))\\\n",
    "        |((edgeNum_pre>(edgeNum_raw*0.1))&(edgeNum_now<(edgeNum_raw*0.1))):\n",
    "            # Model selection\n",
    "            model = sis(temp)\n",
    "            # Model Configuration\n",
    "            cfg = mc.Configuration()\n",
    "            cfg.add_model_parameter('beta', 0.01)\n",
    "            cfg.add_model_parameter('lambda', 0.005)\n",
    "            cfg.add_model_parameter(\"percentage_infected\", 0.05)\n",
    "            model.set_initial_status(cfg)\n",
    "            iterations = model.iteration_bunch(1000)\n",
    "\n",
    "            trends = model.build_trends(iterations)\n",
    "            viz = DiffusionTrend(model, trends)\n",
    "#             viz.plot()\n",
    "            node_final.append(trends[0]['trends']['node_count'][0][len(trends[0]['trends']['node_count'][0])-1]/G.number_of_nodes())\n",
    "            #print(trends[0]['trends']['node_count'][0][len(trends[0]['trends']['node_count'][0])-1])\n",
    "            \n",
    "            \n",
    "            trend_list[pct]=trends[0]['trends']['node_count'][0]\n",
    "            pct=pct+1\n",
    "        \n",
    "            print(\"number of edge deleted:\"+str(edgeNum_raw-edgeNum_now))\n",
    "            if (edgeNum_now<(edgeNum_raw*0.1)):\n",
    "                break\n",
    "        #print('edgeNum_pre:'+str(edgeNum_pre)+',edgeNum_now:'+str(edgeNum_now))\n",
    "#     plt.show()\n",
    "#     plt.plot(node_final)\n",
    "    #result_list.append(node_final)\n",
    "    result_list[method_name]=node_final\n",
    "#     plt.ylim(0,1)\n",
    "#     plt.show()"
   ]
  },
  {
   "cell_type": "code",
   "execution_count": 7,
   "metadata": {},
   "outputs": [],
   "source": [
    "def motif_computation(m_num,W):\n",
    "    B=np.multiply(W,W.T)\n",
    "    U=W-B\n",
    "    if m_num==1:\n",
    "        C=np.multiply(U*U,U.T)\n",
    "        C=C+C.T\n",
    "    elif m_num==2:\n",
    "        C=np.multiply(B*U,U.T)+np.multiply(U*B,U.T)+np.multiply(U*U,B)\n",
    "        C=C+C.T\n",
    "    elif m_num==3:\n",
    "        C=np.multiply(B*B,U)+np.multiply(B*U,B)+np.multiply(U*B,B)\n",
    "        C=C+C.T\n",
    "    elif m_num==4:\n",
    "        C=np.multiply(B*B,B)\n",
    "    elif m_num==5:\n",
    "        C=np.multiply(U*U,U)+np.multiply(U*U.T,U)+np.multiply(U.T*U,U)\n",
    "        C=C+C.T\n",
    "    elif m_num==6:\n",
    "        C=np.multiply(U*B,U)+np.multiply(B*U.T,U.T)+np.multiply(U.T*U,B)\n",
    "    elif m_num==7:\n",
    "        C=np.multiply(U.T*B,U.T)+np.multiply(B*U,U)+np.multiply(U*U.T,B)\n",
    "    return C"
   ]
  },
  {
   "cell_type": "code",
   "execution_count": 8,
   "metadata": {
    "pycharm": {
     "name": "#%%\n"
    }
   },
   "outputs": [
    {
     "data": {
      "text/plain": [
       "'\\nHere it is necessary to record the processing methods of different network formats:\\n\\n-If the original file is txt, use quickprocess.py to get txt and weighted txt\\n-If the original file is gml, use Gephi to get the csv\\n-If the original file is csv, use Atom to delete the comma and save as txt\\n'"
      ]
     },
     "execution_count": 8,
     "metadata": {},
     "output_type": "execute_result"
    }
   ],
   "source": [
    "'''\n",
    "Here it is necessary to record the processing methods of different network formats:\n",
    "\n",
    "-If the original file is txt, use quickprocess.py to get txt and weighted txt\n",
    "-If the original file is gml, use Gephi to get the csv\n",
    "-If the original file is csv, use Atom to delete the comma and save as txt\n",
    "'''"
   ]
  },
  {
   "cell_type": "code",
   "execution_count": 9,
   "metadata": {},
   "outputs": [],
   "source": [
    "G=nx.DiGraph()\n",
    "G = nx.read_edgelist('../dataset/'+net_name+'.csv', delimiter=',', nodetype=str,create_using=G)"
   ]
  },
  {
   "cell_type": "code",
   "execution_count": 10,
   "metadata": {
    "pycharm": {
     "name": "#%%\n"
    }
   },
   "outputs": [
    {
     "data": {
      "text/plain": [
       "'\\nAlgorithm idea：\\n- Combine the weight of motif with edge betweenness\\n'"
      ]
     },
     "execution_count": 10,
     "metadata": {},
     "output_type": "execute_result"
    }
   ],
   "source": [
    "'''\n",
    "Algorithm idea：\n",
    "- Combine the weight of motif with edge betweenness\n",
    "'''"
   ]
  },
  {
   "cell_type": "code",
   "execution_count": 11,
   "metadata": {
    "pycharm": {
     "name": "#%%\n"
    }
   },
   "outputs": [],
   "source": [
    "# Use motif to weight edges\n",
    "W=nx.to_numpy_matrix(G)\n",
    "\n",
    "# Type of input motif\n",
    "\n",
    "C=motif_computation(4,W)\n",
    "W_M=np.multiply(1/(C+1),W)\n",
    "\n",
    "edgeList=list(G.edges())\n",
    "\n",
    "G_weighted=nx.DiGraph()"
   ]
  },
  {
   "cell_type": "code",
   "execution_count": 12,
   "metadata": {},
   "outputs": [],
   "source": [
    "for item in edgeList:\n",
    "    a=list(G.nodes()).index(item[0])\n",
    "    b=list(G.nodes()).index(item[1])\n",
    "    G_weighted.add_edge(str(a),str(b),weight=W_M[a,b])"
   ]
  },
  {
   "cell_type": "code",
   "execution_count": 13,
   "metadata": {},
   "outputs": [],
   "source": [
    "edge_betweenness_w=nx.edge_betweenness_centrality(G_weighted,weight='weight')"
   ]
  },
  {
   "cell_type": "code",
   "execution_count": 14,
   "metadata": {},
   "outputs": [],
   "source": [
    "edge_betweenness_ws=sorted(edge_betweenness_w.items(),key=lambda item:item[1],reverse=True)"
   ]
  },
  {
   "cell_type": "code",
   "execution_count": 15,
   "metadata": {},
   "outputs": [],
   "source": [
    "f=open('../centralities/'+net_name+'edge_betweenness_w.txt','w')"
   ]
  },
  {
   "cell_type": "code",
   "execution_count": 16,
   "metadata": {},
   "outputs": [],
   "source": [
    "for item in edge_betweenness_ws:\n",
    "    f.write(str(item[0][0])+' '+str(item[0][1])+' '+str(item[1])+'\\n')\n",
    "f.close()\n",
    "del edge_betweenness_w,edge_betweenness_ws"
   ]
  },
  {
   "cell_type": "code",
   "execution_count": 17,
   "metadata": {},
   "outputs": [],
   "source": [
    "edge_betweenness_w=pd.read_csv('../centralities/'+net_name+'edge_betweenness_w.txt',header=None,sep=' ')"
   ]
  },
  {
   "cell_type": "code",
   "execution_count": 18,
   "metadata": {},
   "outputs": [
    {
     "name": "stderr",
     "output_type": "stream",
     "text": [
      "100%|██████████| 1000/1000 [00:04<00:00, 228.80it/s]\n",
      "  2%|▏         | 21/1000 [00:00<00:04, 201.19it/s]"
     ]
    },
    {
     "name": "stdout",
     "output_type": "stream",
     "text": [
      "pct of edge deleted:0.1\n"
     ]
    },
    {
     "name": "stderr",
     "output_type": "stream",
     "text": [
      "100%|██████████| 1000/1000 [00:04<00:00, 228.88it/s]\n",
      "  4%|▍         | 43/1000 [00:00<00:04, 207.73it/s]"
     ]
    },
    {
     "name": "stdout",
     "output_type": "stream",
     "text": [
      "pct of edge deleted:0.2\n"
     ]
    },
    {
     "name": "stderr",
     "output_type": "stream",
     "text": [
      "100%|██████████| 1000/1000 [00:04<00:00, 221.20it/s]\n",
      "  4%|▍         | 42/1000 [00:00<00:04, 205.51it/s]"
     ]
    },
    {
     "name": "stdout",
     "output_type": "stream",
     "text": [
      "pct of edge deleted:0.3\n"
     ]
    },
    {
     "name": "stderr",
     "output_type": "stream",
     "text": [
      "100%|██████████| 1000/1000 [00:04<00:00, 223.60it/s]\n",
      "  2%|▏         | 21/1000 [00:00<00:04, 206.92it/s]"
     ]
    },
    {
     "name": "stdout",
     "output_type": "stream",
     "text": [
      "pct of edge deleted:0.4\n"
     ]
    },
    {
     "name": "stderr",
     "output_type": "stream",
     "text": [
      "100%|██████████| 1000/1000 [00:04<00:00, 223.05it/s]\n",
      "  2%|▏         | 22/1000 [00:00<00:04, 219.53it/s]"
     ]
    },
    {
     "name": "stdout",
     "output_type": "stream",
     "text": [
      "pct of edge deleted:0.5\n"
     ]
    },
    {
     "name": "stderr",
     "output_type": "stream",
     "text": [
      "100%|██████████| 1000/1000 [00:04<00:00, 227.55it/s]\n",
      "  2%|▏         | 23/1000 [00:00<00:04, 223.10it/s]"
     ]
    },
    {
     "name": "stdout",
     "output_type": "stream",
     "text": [
      "pct of edge deleted:0.6\n"
     ]
    },
    {
     "name": "stderr",
     "output_type": "stream",
     "text": [
      "100%|██████████| 1000/1000 [00:04<00:00, 231.88it/s]\n",
      "  2%|▏         | 23/1000 [00:00<00:04, 224.83it/s]"
     ]
    },
    {
     "name": "stdout",
     "output_type": "stream",
     "text": [
      "pct of edge deleted:0.7\n"
     ]
    },
    {
     "name": "stderr",
     "output_type": "stream",
     "text": [
      "100%|██████████| 1000/1000 [00:04<00:00, 229.98it/s]\n",
      "  2%|▏         | 23/1000 [00:00<00:04, 229.29it/s]"
     ]
    },
    {
     "name": "stdout",
     "output_type": "stream",
     "text": [
      "pct of edge deleted:0.8\n"
     ]
    },
    {
     "name": "stderr",
     "output_type": "stream",
     "text": [
      "100%|██████████| 1000/1000 [00:04<00:00, 230.71it/s]"
     ]
    },
    {
     "name": "stdout",
     "output_type": "stream",
     "text": [
      "pct of edge deleted:0.9\n"
     ]
    },
    {
     "name": "stderr",
     "output_type": "stream",
     "text": [
      "\n"
     ]
    }
   ],
   "source": [
    "edge_betweenness_w=np.array(edge_betweenness_w)\n",
    "edge_betweenness_w=edge_betweenness_w.tolist()\n",
    "\n",
    "drawCutEdge(edge_betweenness_w,G_weighted,'edge_betweenness_w edge')\n",
    "del edge_betweenness_w"
   ]
  },
  {
   "cell_type": "code",
   "execution_count": 19,
   "metadata": {},
   "outputs": [],
   "source": [
    "f=open('../output/'+net_name+'edge_betweenness_w'+'_infected_num'+'.txt','w')\n",
    "f.write(str(trend_list))\n",
    "f.close()\n",
    "output_list['edge_betweenness_w']=trend_list\n",
    "trend_list={}"
   ]
  },
  {
   "cell_type": "code",
   "execution_count": 20,
   "metadata": {},
   "outputs": [],
   "source": [
    "f=open('../output/'+net_name+'edge_betweenness_w'+'_infected_num'+'.txt','r')\n",
    "dic=eval(f.read())\n",
    "f.close()"
   ]
  },
  {
   "cell_type": "code",
   "execution_count": 21,
   "metadata": {
    "pycharm": {
     "name": "#%%\n"
    }
   },
   "outputs": [
    {
     "name": "stdout",
     "output_type": "stream",
     "text": [
      "degree...\n",
      "closeness...\n",
      "betweenness...\n"
     ]
    }
   ],
   "source": [
    "# The effect of original edge-betweenness\n",
    "%run Centralities.py {net_name}"
   ]
  },
  {
   "cell_type": "code",
   "execution_count": 22,
   "metadata": {
    "pycharm": {
     "name": "#%%\n"
    }
   },
   "outputs": [],
   "source": [
    "# Remove nodes based on degree, compare with the situation where the same edge is removed"
   ]
  },
  {
   "cell_type": "code",
   "execution_count": 23,
   "metadata": {},
   "outputs": [],
   "source": [
    "degree_centrality=pd.read_csv('../centralities/'+net_name+'degree.txt',header=None,sep=',')\n",
    "degree_centrality=np.array(degree_centrality)\n",
    "degree_centrality=degree_centrality.tolist()"
   ]
  },
  {
   "cell_type": "code",
   "execution_count": 24,
   "metadata": {},
   "outputs": [
    {
     "name": "stderr",
     "output_type": "stream",
     "text": [
      "100%|██████████| 1000/1000 [00:04<00:00, 232.95it/s]\n",
      "  2%|▏         | 21/1000 [00:00<00:04, 204.08it/s]"
     ]
    },
    {
     "name": "stdout",
     "output_type": "stream",
     "text": [
      "number of edge deleted:2088\n"
     ]
    },
    {
     "name": "stderr",
     "output_type": "stream",
     "text": [
      "100%|██████████| 1000/1000 [00:04<00:00, 235.91it/s]\n",
      "  4%|▍         | 43/1000 [00:00<00:04, 210.99it/s]"
     ]
    },
    {
     "name": "stdout",
     "output_type": "stream",
     "text": [
      "number of edge deleted:3834\n"
     ]
    },
    {
     "name": "stderr",
     "output_type": "stream",
     "text": [
      "100%|██████████| 1000/1000 [00:04<00:00, 236.63it/s]\n",
      "  2%|▏         | 22/1000 [00:00<00:04, 218.01it/s]"
     ]
    },
    {
     "name": "stdout",
     "output_type": "stream",
     "text": [
      "number of edge deleted:5833\n"
     ]
    },
    {
     "name": "stderr",
     "output_type": "stream",
     "text": [
      "100%|██████████| 1000/1000 [00:04<00:00, 245.92it/s]\n",
      "  5%|▍         | 46/1000 [00:00<00:04, 223.05it/s]"
     ]
    },
    {
     "name": "stdout",
     "output_type": "stream",
     "text": [
      "number of edge deleted:9564\n"
     ]
    },
    {
     "name": "stderr",
     "output_type": "stream",
     "text": [
      "100%|██████████| 1000/1000 [00:04<00:00, 247.96it/s]\n",
      "  5%|▍         | 48/1000 [00:00<00:04, 236.78it/s]"
     ]
    },
    {
     "name": "stdout",
     "output_type": "stream",
     "text": [
      "number of edge deleted:11459\n"
     ]
    },
    {
     "name": "stderr",
     "output_type": "stream",
     "text": [
      "100%|██████████| 1000/1000 [00:03<00:00, 259.14it/s]\n",
      "  3%|▎         | 26/1000 [00:00<00:03, 259.04it/s]"
     ]
    },
    {
     "name": "stdout",
     "output_type": "stream",
     "text": [
      "number of edge deleted:13355\n"
     ]
    },
    {
     "name": "stderr",
     "output_type": "stream",
     "text": [
      "100%|██████████| 1000/1000 [00:03<00:00, 270.26it/s]\n",
      "  6%|▌         | 58/1000 [00:00<00:03, 281.54it/s]"
     ]
    },
    {
     "name": "stdout",
     "output_type": "stream",
     "text": [
      "number of edge deleted:15235\n"
     ]
    },
    {
     "name": "stderr",
     "output_type": "stream",
     "text": [
      "100%|██████████| 1000/1000 [00:03<00:00, 292.78it/s]"
     ]
    },
    {
     "name": "stdout",
     "output_type": "stream",
     "text": [
      "number of edge deleted:17125\n"
     ]
    },
    {
     "name": "stderr",
     "output_type": "stream",
     "text": [
      "\n"
     ]
    }
   ],
   "source": [
    "drawCutNode(degree_centrality,G,'degree node')\n",
    "del degree_centrality"
   ]
  },
  {
   "cell_type": "code",
   "execution_count": 25,
   "metadata": {},
   "outputs": [],
   "source": [
    "f=open('../output/'+net_name+'degree'+'_infected_num'+'.txt','w')\n",
    "f.write(str(trend_list))\n",
    "f.close()\n",
    "output_list['degree']=trend_list\n",
    "trend_list={}"
   ]
  },
  {
   "cell_type": "code",
   "execution_count": 26,
   "metadata": {
    "pycharm": {
     "name": "#%%\n"
    }
   },
   "outputs": [],
   "source": [
    "### 依据betweenness删去节点，与相同的情形比较\n",
    "# Delete nodes based on betweenness and compare with the same situation"
   ]
  },
  {
   "cell_type": "code",
   "execution_count": 27,
   "metadata": {},
   "outputs": [],
   "source": [
    "betweenness=pd.read_csv('../centralities/'+net_name+'betweenness.txt',header=None,sep=',')\n",
    "betweenness=np.array(betweenness)\n",
    "betweenness=betweenness.tolist()"
   ]
  },
  {
   "cell_type": "code",
   "execution_count": 28,
   "metadata": {},
   "outputs": [
    {
     "name": "stderr",
     "output_type": "stream",
     "text": [
      "100%|██████████| 1000/1000 [00:04<00:00, 230.70it/s]\n",
      "  2%|▏         | 21/1000 [00:00<00:04, 203.03it/s]"
     ]
    },
    {
     "name": "stdout",
     "output_type": "stream",
     "text": [
      "number of edge deleted:2118\n"
     ]
    },
    {
     "name": "stderr",
     "output_type": "stream",
     "text": [
      "100%|██████████| 1000/1000 [00:04<00:00, 235.29it/s]\n",
      "  2%|▏         | 21/1000 [00:00<00:04, 202.39it/s]"
     ]
    },
    {
     "name": "stdout",
     "output_type": "stream",
     "text": [
      "number of edge deleted:4001\n"
     ]
    },
    {
     "name": "stderr",
     "output_type": "stream",
     "text": [
      "100%|██████████| 1000/1000 [00:04<00:00, 235.30it/s]\n",
      "  2%|▏         | 21/1000 [00:00<00:04, 209.01it/s]"
     ]
    },
    {
     "name": "stdout",
     "output_type": "stream",
     "text": [
      "number of edge deleted:5737\n"
     ]
    },
    {
     "name": "stderr",
     "output_type": "stream",
     "text": [
      "100%|██████████| 1000/1000 [00:04<00:00, 242.01it/s]\n",
      "  2%|▏         | 22/1000 [00:00<00:04, 216.63it/s]"
     ]
    },
    {
     "name": "stdout",
     "output_type": "stream",
     "text": [
      "number of edge deleted:7714\n"
     ]
    },
    {
     "name": "stderr",
     "output_type": "stream",
     "text": [
      "100%|██████████| 1000/1000 [00:04<00:00, 244.01it/s]\n",
      "  2%|▏         | 24/1000 [00:00<00:04, 230.46it/s]"
     ]
    },
    {
     "name": "stdout",
     "output_type": "stream",
     "text": [
      "number of edge deleted:9523\n"
     ]
    },
    {
     "name": "stderr",
     "output_type": "stream",
     "text": [
      "100%|██████████| 1000/1000 [00:03<00:00, 255.20it/s]\n",
      "  2%|▎         | 25/1000 [00:00<00:03, 245.56it/s]"
     ]
    },
    {
     "name": "stdout",
     "output_type": "stream",
     "text": [
      "number of edge deleted:11422\n"
     ]
    },
    {
     "name": "stderr",
     "output_type": "stream",
     "text": [
      "100%|██████████| 1000/1000 [00:03<00:00, 263.60it/s]\n",
      "  5%|▌         | 54/1000 [00:00<00:03, 259.31it/s]"
     ]
    },
    {
     "name": "stdout",
     "output_type": "stream",
     "text": [
      "number of edge deleted:13345\n"
     ]
    },
    {
     "name": "stderr",
     "output_type": "stream",
     "text": [
      "100%|██████████| 1000/1000 [00:03<00:00, 275.57it/s]\n",
      "  3%|▎         | 32/1000 [00:00<00:03, 314.90it/s]"
     ]
    },
    {
     "name": "stdout",
     "output_type": "stream",
     "text": [
      "number of edge deleted:15231\n"
     ]
    },
    {
     "name": "stderr",
     "output_type": "stream",
     "text": [
      "100%|██████████| 1000/1000 [00:03<00:00, 317.88it/s]"
     ]
    },
    {
     "name": "stdout",
     "output_type": "stream",
     "text": [
      "number of edge deleted:17128\n"
     ]
    },
    {
     "name": "stderr",
     "output_type": "stream",
     "text": [
      "\n"
     ]
    }
   ],
   "source": [
    "drawCutNode(betweenness,G,'betweenness node')\n",
    "del betweenness"
   ]
  },
  {
   "cell_type": "code",
   "execution_count": 29,
   "metadata": {},
   "outputs": [],
   "source": [
    "f=open('../output/'+net_name+'betweenness'+'_infected_num'+'.txt','w')\n",
    "f.write(str(trend_list))\n",
    "f.close()\n",
    "output_list['betweenness']=trend_list\n",
    "trend_list={}"
   ]
  },
  {
   "cell_type": "markdown",
   "metadata": {},
   "source": [
    "### 将各个方法的效果汇总"
   ]
  },
  {
   "cell_type": "code",
   "execution_count": 30,
   "metadata": {},
   "outputs": [
    {
     "data": {
      "text/plain": [
       "{'edge_betweenness_w edge': [0.4803921568627451,\n",
       "  0.5024509803921569,\n",
       "  0.5612745098039216,\n",
       "  0.5972222222222222,\n",
       "  0.6625816993464052,\n",
       "  0.7132352941176471,\n",
       "  0.7565359477124183,\n",
       "  0.821078431372549,\n",
       "  0.8594771241830066],\n",
       " 'degree node': [0.3611111111111111,\n",
       "  0.3741830065359477,\n",
       "  0.39052287581699346,\n",
       "  0.41094771241830064,\n",
       "  0.43300653594771243,\n",
       "  0.4877450980392157,\n",
       "  0.5081699346405228,\n",
       "  0.5866013071895425],\n",
       " 'betweenness node': [0.36519607843137253,\n",
       "  0.4035947712418301,\n",
       "  0.4158496732026144,\n",
       "  0.4272875816993464,\n",
       "  0.4583333333333333,\n",
       "  0.4877450980392157,\n",
       "  0.5294117647058824,\n",
       "  0.5727124183006536,\n",
       "  0.690359477124183]}"
      ]
     },
     "execution_count": 30,
     "metadata": {},
     "output_type": "execute_result"
    }
   ],
   "source": [
    "result_list"
   ]
  },
  {
   "cell_type": "code",
   "execution_count": 31,
   "metadata": {},
   "outputs": [
    {
     "data": {
      "application/javascript": [
       "/* Put everything inside the global mpl namespace */\n",
       "/* global mpl */\n",
       "window.mpl = {};\n",
       "\n",
       "mpl.get_websocket_type = function () {\n",
       "    if (typeof WebSocket !== 'undefined') {\n",
       "        return WebSocket;\n",
       "    } else if (typeof MozWebSocket !== 'undefined') {\n",
       "        return MozWebSocket;\n",
       "    } else {\n",
       "        alert(\n",
       "            'Your browser does not have WebSocket support. ' +\n",
       "                'Please try Chrome, Safari or Firefox ≥ 6. ' +\n",
       "                'Firefox 4 and 5 are also supported but you ' +\n",
       "                'have to enable WebSockets in about:config.'\n",
       "        );\n",
       "    }\n",
       "};\n",
       "\n",
       "mpl.figure = function (figure_id, websocket, ondownload, parent_element) {\n",
       "    this.id = figure_id;\n",
       "\n",
       "    this.ws = websocket;\n",
       "\n",
       "    this.supports_binary = this.ws.binaryType !== undefined;\n",
       "\n",
       "    if (!this.supports_binary) {\n",
       "        var warnings = document.getElementById('mpl-warnings');\n",
       "        if (warnings) {\n",
       "            warnings.style.display = 'block';\n",
       "            warnings.textContent =\n",
       "                'This browser does not support binary websocket messages. ' +\n",
       "                'Performance may be slow.';\n",
       "        }\n",
       "    }\n",
       "\n",
       "    this.imageObj = new Image();\n",
       "\n",
       "    this.context = undefined;\n",
       "    this.message = undefined;\n",
       "    this.canvas = undefined;\n",
       "    this.rubberband_canvas = undefined;\n",
       "    this.rubberband_context = undefined;\n",
       "    this.format_dropdown = undefined;\n",
       "\n",
       "    this.image_mode = 'full';\n",
       "\n",
       "    this.root = document.createElement('div');\n",
       "    this.root.setAttribute('style', 'display: inline-block');\n",
       "    this._root_extra_style(this.root);\n",
       "\n",
       "    parent_element.appendChild(this.root);\n",
       "\n",
       "    this._init_header(this);\n",
       "    this._init_canvas(this);\n",
       "    this._init_toolbar(this);\n",
       "\n",
       "    var fig = this;\n",
       "\n",
       "    this.waiting = false;\n",
       "\n",
       "    this.ws.onopen = function () {\n",
       "        fig.send_message('supports_binary', { value: fig.supports_binary });\n",
       "        fig.send_message('send_image_mode', {});\n",
       "        if (fig.ratio !== 1) {\n",
       "            fig.send_message('set_dpi_ratio', { dpi_ratio: fig.ratio });\n",
       "        }\n",
       "        fig.send_message('refresh', {});\n",
       "    };\n",
       "\n",
       "    this.imageObj.onload = function () {\n",
       "        if (fig.image_mode === 'full') {\n",
       "            // Full images could contain transparency (where diff images\n",
       "            // almost always do), so we need to clear the canvas so that\n",
       "            // there is no ghosting.\n",
       "            fig.context.clearRect(0, 0, fig.canvas.width, fig.canvas.height);\n",
       "        }\n",
       "        fig.context.drawImage(fig.imageObj, 0, 0);\n",
       "    };\n",
       "\n",
       "    this.imageObj.onunload = function () {\n",
       "        fig.ws.close();\n",
       "    };\n",
       "\n",
       "    this.ws.onmessage = this._make_on_message_function(this);\n",
       "\n",
       "    this.ondownload = ondownload;\n",
       "};\n",
       "\n",
       "mpl.figure.prototype._init_header = function () {\n",
       "    var titlebar = document.createElement('div');\n",
       "    titlebar.classList =\n",
       "        'ui-dialog-titlebar ui-widget-header ui-corner-all ui-helper-clearfix';\n",
       "    var titletext = document.createElement('div');\n",
       "    titletext.classList = 'ui-dialog-title';\n",
       "    titletext.setAttribute(\n",
       "        'style',\n",
       "        'width: 100%; text-align: center; padding: 3px;'\n",
       "    );\n",
       "    titlebar.appendChild(titletext);\n",
       "    this.root.appendChild(titlebar);\n",
       "    this.header = titletext;\n",
       "};\n",
       "\n",
       "mpl.figure.prototype._canvas_extra_style = function (_canvas_div) {};\n",
       "\n",
       "mpl.figure.prototype._root_extra_style = function (_canvas_div) {};\n",
       "\n",
       "mpl.figure.prototype._init_canvas = function () {\n",
       "    var fig = this;\n",
       "\n",
       "    var canvas_div = (this.canvas_div = document.createElement('div'));\n",
       "    canvas_div.setAttribute(\n",
       "        'style',\n",
       "        'border: 1px solid #ddd;' +\n",
       "            'box-sizing: content-box;' +\n",
       "            'clear: both;' +\n",
       "            'min-height: 1px;' +\n",
       "            'min-width: 1px;' +\n",
       "            'outline: 0;' +\n",
       "            'overflow: hidden;' +\n",
       "            'position: relative;' +\n",
       "            'resize: both;'\n",
       "    );\n",
       "\n",
       "    function on_keyboard_event_closure(name) {\n",
       "        return function (event) {\n",
       "            return fig.key_event(event, name);\n",
       "        };\n",
       "    }\n",
       "\n",
       "    canvas_div.addEventListener(\n",
       "        'keydown',\n",
       "        on_keyboard_event_closure('key_press')\n",
       "    );\n",
       "    canvas_div.addEventListener(\n",
       "        'keyup',\n",
       "        on_keyboard_event_closure('key_release')\n",
       "    );\n",
       "\n",
       "    this._canvas_extra_style(canvas_div);\n",
       "    this.root.appendChild(canvas_div);\n",
       "\n",
       "    var canvas = (this.canvas = document.createElement('canvas'));\n",
       "    canvas.classList.add('mpl-canvas');\n",
       "    canvas.setAttribute('style', 'box-sizing: content-box;');\n",
       "\n",
       "    this.context = canvas.getContext('2d');\n",
       "\n",
       "    var backingStore =\n",
       "        this.context.backingStorePixelRatio ||\n",
       "        this.context.webkitBackingStorePixelRatio ||\n",
       "        this.context.mozBackingStorePixelRatio ||\n",
       "        this.context.msBackingStorePixelRatio ||\n",
       "        this.context.oBackingStorePixelRatio ||\n",
       "        this.context.backingStorePixelRatio ||\n",
       "        1;\n",
       "\n",
       "    this.ratio = (window.devicePixelRatio || 1) / backingStore;\n",
       "\n",
       "    var rubberband_canvas = (this.rubberband_canvas = document.createElement(\n",
       "        'canvas'\n",
       "    ));\n",
       "    rubberband_canvas.setAttribute(\n",
       "        'style',\n",
       "        'box-sizing: content-box; position: absolute; left: 0; top: 0; z-index: 1;'\n",
       "    );\n",
       "\n",
       "    // Apply a ponyfill if ResizeObserver is not implemented by browser.\n",
       "    if (this.ResizeObserver === undefined) {\n",
       "        if (window.ResizeObserver !== undefined) {\n",
       "            this.ResizeObserver = window.ResizeObserver;\n",
       "        } else {\n",
       "            var obs = _JSXTOOLS_RESIZE_OBSERVER({});\n",
       "            this.ResizeObserver = obs.ResizeObserver;\n",
       "        }\n",
       "    }\n",
       "\n",
       "    this.resizeObserverInstance = new this.ResizeObserver(function (entries) {\n",
       "        var nentries = entries.length;\n",
       "        for (var i = 0; i < nentries; i++) {\n",
       "            var entry = entries[i];\n",
       "            var width, height;\n",
       "            if (entry.contentBoxSize) {\n",
       "                if (entry.contentBoxSize instanceof Array) {\n",
       "                    // Chrome 84 implements new version of spec.\n",
       "                    width = entry.contentBoxSize[0].inlineSize;\n",
       "                    height = entry.contentBoxSize[0].blockSize;\n",
       "                } else {\n",
       "                    // Firefox implements old version of spec.\n",
       "                    width = entry.contentBoxSize.inlineSize;\n",
       "                    height = entry.contentBoxSize.blockSize;\n",
       "                }\n",
       "            } else {\n",
       "                // Chrome <84 implements even older version of spec.\n",
       "                width = entry.contentRect.width;\n",
       "                height = entry.contentRect.height;\n",
       "            }\n",
       "\n",
       "            // Keep the size of the canvas and rubber band canvas in sync with\n",
       "            // the canvas container.\n",
       "            if (entry.devicePixelContentBoxSize) {\n",
       "                // Chrome 84 implements new version of spec.\n",
       "                canvas.setAttribute(\n",
       "                    'width',\n",
       "                    entry.devicePixelContentBoxSize[0].inlineSize\n",
       "                );\n",
       "                canvas.setAttribute(\n",
       "                    'height',\n",
       "                    entry.devicePixelContentBoxSize[0].blockSize\n",
       "                );\n",
       "            } else {\n",
       "                canvas.setAttribute('width', width * fig.ratio);\n",
       "                canvas.setAttribute('height', height * fig.ratio);\n",
       "            }\n",
       "            canvas.setAttribute(\n",
       "                'style',\n",
       "                'width: ' + width + 'px; height: ' + height + 'px;'\n",
       "            );\n",
       "\n",
       "            rubberband_canvas.setAttribute('width', width);\n",
       "            rubberband_canvas.setAttribute('height', height);\n",
       "\n",
       "            // And update the size in Python. We ignore the initial 0/0 size\n",
       "            // that occurs as the element is placed into the DOM, which should\n",
       "            // otherwise not happen due to the minimum size styling.\n",
       "            if (fig.ws.readyState == 1 && width != 0 && height != 0) {\n",
       "                fig.request_resize(width, height);\n",
       "            }\n",
       "        }\n",
       "    });\n",
       "    this.resizeObserverInstance.observe(canvas_div);\n",
       "\n",
       "    function on_mouse_event_closure(name) {\n",
       "        return function (event) {\n",
       "            return fig.mouse_event(event, name);\n",
       "        };\n",
       "    }\n",
       "\n",
       "    rubberband_canvas.addEventListener(\n",
       "        'mousedown',\n",
       "        on_mouse_event_closure('button_press')\n",
       "    );\n",
       "    rubberband_canvas.addEventListener(\n",
       "        'mouseup',\n",
       "        on_mouse_event_closure('button_release')\n",
       "    );\n",
       "    // Throttle sequential mouse events to 1 every 20ms.\n",
       "    rubberband_canvas.addEventListener(\n",
       "        'mousemove',\n",
       "        on_mouse_event_closure('motion_notify')\n",
       "    );\n",
       "\n",
       "    rubberband_canvas.addEventListener(\n",
       "        'mouseenter',\n",
       "        on_mouse_event_closure('figure_enter')\n",
       "    );\n",
       "    rubberband_canvas.addEventListener(\n",
       "        'mouseleave',\n",
       "        on_mouse_event_closure('figure_leave')\n",
       "    );\n",
       "\n",
       "    canvas_div.addEventListener('wheel', function (event) {\n",
       "        if (event.deltaY < 0) {\n",
       "            event.step = 1;\n",
       "        } else {\n",
       "            event.step = -1;\n",
       "        }\n",
       "        on_mouse_event_closure('scroll')(event);\n",
       "    });\n",
       "\n",
       "    canvas_div.appendChild(canvas);\n",
       "    canvas_div.appendChild(rubberband_canvas);\n",
       "\n",
       "    this.rubberband_context = rubberband_canvas.getContext('2d');\n",
       "    this.rubberband_context.strokeStyle = '#000000';\n",
       "\n",
       "    this._resize_canvas = function (width, height, forward) {\n",
       "        if (forward) {\n",
       "            canvas_div.style.width = width + 'px';\n",
       "            canvas_div.style.height = height + 'px';\n",
       "        }\n",
       "    };\n",
       "\n",
       "    // Disable right mouse context menu.\n",
       "    this.rubberband_canvas.addEventListener('contextmenu', function (_e) {\n",
       "        event.preventDefault();\n",
       "        return false;\n",
       "    });\n",
       "\n",
       "    function set_focus() {\n",
       "        canvas.focus();\n",
       "        canvas_div.focus();\n",
       "    }\n",
       "\n",
       "    window.setTimeout(set_focus, 100);\n",
       "};\n",
       "\n",
       "mpl.figure.prototype._init_toolbar = function () {\n",
       "    var fig = this;\n",
       "\n",
       "    var toolbar = document.createElement('div');\n",
       "    toolbar.classList = 'mpl-toolbar';\n",
       "    this.root.appendChild(toolbar);\n",
       "\n",
       "    function on_click_closure(name) {\n",
       "        return function (_event) {\n",
       "            return fig.toolbar_button_onclick(name);\n",
       "        };\n",
       "    }\n",
       "\n",
       "    function on_mouseover_closure(tooltip) {\n",
       "        return function (event) {\n",
       "            if (!event.currentTarget.disabled) {\n",
       "                return fig.toolbar_button_onmouseover(tooltip);\n",
       "            }\n",
       "        };\n",
       "    }\n",
       "\n",
       "    fig.buttons = {};\n",
       "    var buttonGroup = document.createElement('div');\n",
       "    buttonGroup.classList = 'mpl-button-group';\n",
       "    for (var toolbar_ind in mpl.toolbar_items) {\n",
       "        var name = mpl.toolbar_items[toolbar_ind][0];\n",
       "        var tooltip = mpl.toolbar_items[toolbar_ind][1];\n",
       "        var image = mpl.toolbar_items[toolbar_ind][2];\n",
       "        var method_name = mpl.toolbar_items[toolbar_ind][3];\n",
       "\n",
       "        if (!name) {\n",
       "            /* Instead of a spacer, we start a new button group. */\n",
       "            if (buttonGroup.hasChildNodes()) {\n",
       "                toolbar.appendChild(buttonGroup);\n",
       "            }\n",
       "            buttonGroup = document.createElement('div');\n",
       "            buttonGroup.classList = 'mpl-button-group';\n",
       "            continue;\n",
       "        }\n",
       "\n",
       "        var button = (fig.buttons[name] = document.createElement('button'));\n",
       "        button.classList = 'mpl-widget';\n",
       "        button.setAttribute('role', 'button');\n",
       "        button.setAttribute('aria-disabled', 'false');\n",
       "        button.addEventListener('click', on_click_closure(method_name));\n",
       "        button.addEventListener('mouseover', on_mouseover_closure(tooltip));\n",
       "\n",
       "        var icon_img = document.createElement('img');\n",
       "        icon_img.src = '_images/' + image + '.png';\n",
       "        icon_img.srcset = '_images/' + image + '_large.png 2x';\n",
       "        icon_img.alt = tooltip;\n",
       "        button.appendChild(icon_img);\n",
       "\n",
       "        buttonGroup.appendChild(button);\n",
       "    }\n",
       "\n",
       "    if (buttonGroup.hasChildNodes()) {\n",
       "        toolbar.appendChild(buttonGroup);\n",
       "    }\n",
       "\n",
       "    var fmt_picker = document.createElement('select');\n",
       "    fmt_picker.classList = 'mpl-widget';\n",
       "    toolbar.appendChild(fmt_picker);\n",
       "    this.format_dropdown = fmt_picker;\n",
       "\n",
       "    for (var ind in mpl.extensions) {\n",
       "        var fmt = mpl.extensions[ind];\n",
       "        var option = document.createElement('option');\n",
       "        option.selected = fmt === mpl.default_extension;\n",
       "        option.innerHTML = fmt;\n",
       "        fmt_picker.appendChild(option);\n",
       "    }\n",
       "\n",
       "    var status_bar = document.createElement('span');\n",
       "    status_bar.classList = 'mpl-message';\n",
       "    toolbar.appendChild(status_bar);\n",
       "    this.message = status_bar;\n",
       "};\n",
       "\n",
       "mpl.figure.prototype.request_resize = function (x_pixels, y_pixels) {\n",
       "    // Request matplotlib to resize the figure. Matplotlib will then trigger a resize in the client,\n",
       "    // which will in turn request a refresh of the image.\n",
       "    this.send_message('resize', { width: x_pixels, height: y_pixels });\n",
       "};\n",
       "\n",
       "mpl.figure.prototype.send_message = function (type, properties) {\n",
       "    properties['type'] = type;\n",
       "    properties['figure_id'] = this.id;\n",
       "    this.ws.send(JSON.stringify(properties));\n",
       "};\n",
       "\n",
       "mpl.figure.prototype.send_draw_message = function () {\n",
       "    if (!this.waiting) {\n",
       "        this.waiting = true;\n",
       "        this.ws.send(JSON.stringify({ type: 'draw', figure_id: this.id }));\n",
       "    }\n",
       "};\n",
       "\n",
       "mpl.figure.prototype.handle_save = function (fig, _msg) {\n",
       "    var format_dropdown = fig.format_dropdown;\n",
       "    var format = format_dropdown.options[format_dropdown.selectedIndex].value;\n",
       "    fig.ondownload(fig, format);\n",
       "};\n",
       "\n",
       "mpl.figure.prototype.handle_resize = function (fig, msg) {\n",
       "    var size = msg['size'];\n",
       "    if (size[0] !== fig.canvas.width || size[1] !== fig.canvas.height) {\n",
       "        fig._resize_canvas(size[0], size[1], msg['forward']);\n",
       "        fig.send_message('refresh', {});\n",
       "    }\n",
       "};\n",
       "\n",
       "mpl.figure.prototype.handle_rubberband = function (fig, msg) {\n",
       "    var x0 = msg['x0'] / fig.ratio;\n",
       "    var y0 = (fig.canvas.height - msg['y0']) / fig.ratio;\n",
       "    var x1 = msg['x1'] / fig.ratio;\n",
       "    var y1 = (fig.canvas.height - msg['y1']) / fig.ratio;\n",
       "    x0 = Math.floor(x0) + 0.5;\n",
       "    y0 = Math.floor(y0) + 0.5;\n",
       "    x1 = Math.floor(x1) + 0.5;\n",
       "    y1 = Math.floor(y1) + 0.5;\n",
       "    var min_x = Math.min(x0, x1);\n",
       "    var min_y = Math.min(y0, y1);\n",
       "    var width = Math.abs(x1 - x0);\n",
       "    var height = Math.abs(y1 - y0);\n",
       "\n",
       "    fig.rubberband_context.clearRect(\n",
       "        0,\n",
       "        0,\n",
       "        fig.canvas.width / fig.ratio,\n",
       "        fig.canvas.height / fig.ratio\n",
       "    );\n",
       "\n",
       "    fig.rubberband_context.strokeRect(min_x, min_y, width, height);\n",
       "};\n",
       "\n",
       "mpl.figure.prototype.handle_figure_label = function (fig, msg) {\n",
       "    // Updates the figure title.\n",
       "    fig.header.textContent = msg['label'];\n",
       "};\n",
       "\n",
       "mpl.figure.prototype.handle_cursor = function (fig, msg) {\n",
       "    var cursor = msg['cursor'];\n",
       "    switch (cursor) {\n",
       "        case 0:\n",
       "            cursor = 'pointer';\n",
       "            break;\n",
       "        case 1:\n",
       "            cursor = 'default';\n",
       "            break;\n",
       "        case 2:\n",
       "            cursor = 'crosshair';\n",
       "            break;\n",
       "        case 3:\n",
       "            cursor = 'move';\n",
       "            break;\n",
       "    }\n",
       "    fig.rubberband_canvas.style.cursor = cursor;\n",
       "};\n",
       "\n",
       "mpl.figure.prototype.handle_message = function (fig, msg) {\n",
       "    fig.message.textContent = msg['message'];\n",
       "};\n",
       "\n",
       "mpl.figure.prototype.handle_draw = function (fig, _msg) {\n",
       "    // Request the server to send over a new figure.\n",
       "    fig.send_draw_message();\n",
       "};\n",
       "\n",
       "mpl.figure.prototype.handle_image_mode = function (fig, msg) {\n",
       "    fig.image_mode = msg['mode'];\n",
       "};\n",
       "\n",
       "mpl.figure.prototype.handle_history_buttons = function (fig, msg) {\n",
       "    for (var key in msg) {\n",
       "        if (!(key in fig.buttons)) {\n",
       "            continue;\n",
       "        }\n",
       "        fig.buttons[key].disabled = !msg[key];\n",
       "        fig.buttons[key].setAttribute('aria-disabled', !msg[key]);\n",
       "    }\n",
       "};\n",
       "\n",
       "mpl.figure.prototype.handle_navigate_mode = function (fig, msg) {\n",
       "    if (msg['mode'] === 'PAN') {\n",
       "        fig.buttons['Pan'].classList.add('active');\n",
       "        fig.buttons['Zoom'].classList.remove('active');\n",
       "    } else if (msg['mode'] === 'ZOOM') {\n",
       "        fig.buttons['Pan'].classList.remove('active');\n",
       "        fig.buttons['Zoom'].classList.add('active');\n",
       "    } else {\n",
       "        fig.buttons['Pan'].classList.remove('active');\n",
       "        fig.buttons['Zoom'].classList.remove('active');\n",
       "    }\n",
       "};\n",
       "\n",
       "mpl.figure.prototype.updated_canvas_event = function () {\n",
       "    // Called whenever the canvas gets updated.\n",
       "    this.send_message('ack', {});\n",
       "};\n",
       "\n",
       "// A function to construct a web socket function for onmessage handling.\n",
       "// Called in the figure constructor.\n",
       "mpl.figure.prototype._make_on_message_function = function (fig) {\n",
       "    return function socket_on_message(evt) {\n",
       "        if (evt.data instanceof Blob) {\n",
       "            /* FIXME: We get \"Resource interpreted as Image but\n",
       "             * transferred with MIME type text/plain:\" errors on\n",
       "             * Chrome.  But how to set the MIME type?  It doesn't seem\n",
       "             * to be part of the websocket stream */\n",
       "            evt.data.type = 'image/png';\n",
       "\n",
       "            /* Free the memory for the previous frames */\n",
       "            if (fig.imageObj.src) {\n",
       "                (window.URL || window.webkitURL).revokeObjectURL(\n",
       "                    fig.imageObj.src\n",
       "                );\n",
       "            }\n",
       "\n",
       "            fig.imageObj.src = (window.URL || window.webkitURL).createObjectURL(\n",
       "                evt.data\n",
       "            );\n",
       "            fig.updated_canvas_event();\n",
       "            fig.waiting = false;\n",
       "            return;\n",
       "        } else if (\n",
       "            typeof evt.data === 'string' &&\n",
       "            evt.data.slice(0, 21) === 'data:image/png;base64'\n",
       "        ) {\n",
       "            fig.imageObj.src = evt.data;\n",
       "            fig.updated_canvas_event();\n",
       "            fig.waiting = false;\n",
       "            return;\n",
       "        }\n",
       "\n",
       "        var msg = JSON.parse(evt.data);\n",
       "        var msg_type = msg['type'];\n",
       "\n",
       "        // Call the  \"handle_{type}\" callback, which takes\n",
       "        // the figure and JSON message as its only arguments.\n",
       "        try {\n",
       "            var callback = fig['handle_' + msg_type];\n",
       "        } catch (e) {\n",
       "            console.log(\n",
       "                \"No handler for the '\" + msg_type + \"' message type: \",\n",
       "                msg\n",
       "            );\n",
       "            return;\n",
       "        }\n",
       "\n",
       "        if (callback) {\n",
       "            try {\n",
       "                // console.log(\"Handling '\" + msg_type + \"' message: \", msg);\n",
       "                callback(fig, msg);\n",
       "            } catch (e) {\n",
       "                console.log(\n",
       "                    \"Exception inside the 'handler_\" + msg_type + \"' callback:\",\n",
       "                    e,\n",
       "                    e.stack,\n",
       "                    msg\n",
       "                );\n",
       "            }\n",
       "        }\n",
       "    };\n",
       "};\n",
       "\n",
       "// from http://stackoverflow.com/questions/1114465/getting-mouse-location-in-canvas\n",
       "mpl.findpos = function (e) {\n",
       "    //this section is from http://www.quirksmode.org/js/events_properties.html\n",
       "    var targ;\n",
       "    if (!e) {\n",
       "        e = window.event;\n",
       "    }\n",
       "    if (e.target) {\n",
       "        targ = e.target;\n",
       "    } else if (e.srcElement) {\n",
       "        targ = e.srcElement;\n",
       "    }\n",
       "    if (targ.nodeType === 3) {\n",
       "        // defeat Safari bug\n",
       "        targ = targ.parentNode;\n",
       "    }\n",
       "\n",
       "    // pageX,Y are the mouse positions relative to the document\n",
       "    var boundingRect = targ.getBoundingClientRect();\n",
       "    var x = e.pageX - (boundingRect.left + document.body.scrollLeft);\n",
       "    var y = e.pageY - (boundingRect.top + document.body.scrollTop);\n",
       "\n",
       "    return { x: x, y: y };\n",
       "};\n",
       "\n",
       "/*\n",
       " * return a copy of an object with only non-object keys\n",
       " * we need this to avoid circular references\n",
       " * http://stackoverflow.com/a/24161582/3208463\n",
       " */\n",
       "function simpleKeys(original) {\n",
       "    return Object.keys(original).reduce(function (obj, key) {\n",
       "        if (typeof original[key] !== 'object') {\n",
       "            obj[key] = original[key];\n",
       "        }\n",
       "        return obj;\n",
       "    }, {});\n",
       "}\n",
       "\n",
       "mpl.figure.prototype.mouse_event = function (event, name) {\n",
       "    var canvas_pos = mpl.findpos(event);\n",
       "\n",
       "    if (name === 'button_press') {\n",
       "        this.canvas.focus();\n",
       "        this.canvas_div.focus();\n",
       "    }\n",
       "\n",
       "    var x = canvas_pos.x * this.ratio;\n",
       "    var y = canvas_pos.y * this.ratio;\n",
       "\n",
       "    this.send_message(name, {\n",
       "        x: x,\n",
       "        y: y,\n",
       "        button: event.button,\n",
       "        step: event.step,\n",
       "        guiEvent: simpleKeys(event),\n",
       "    });\n",
       "\n",
       "    /* This prevents the web browser from automatically changing to\n",
       "     * the text insertion cursor when the button is pressed.  We want\n",
       "     * to control all of the cursor setting manually through the\n",
       "     * 'cursor' event from matplotlib */\n",
       "    event.preventDefault();\n",
       "    return false;\n",
       "};\n",
       "\n",
       "mpl.figure.prototype._key_event_extra = function (_event, _name) {\n",
       "    // Handle any extra behaviour associated with a key event\n",
       "};\n",
       "\n",
       "mpl.figure.prototype.key_event = function (event, name) {\n",
       "    // Prevent repeat events\n",
       "    if (name === 'key_press') {\n",
       "        if (event.which === this._key) {\n",
       "            return;\n",
       "        } else {\n",
       "            this._key = event.which;\n",
       "        }\n",
       "    }\n",
       "    if (name === 'key_release') {\n",
       "        this._key = null;\n",
       "    }\n",
       "\n",
       "    var value = '';\n",
       "    if (event.ctrlKey && event.which !== 17) {\n",
       "        value += 'ctrl+';\n",
       "    }\n",
       "    if (event.altKey && event.which !== 18) {\n",
       "        value += 'alt+';\n",
       "    }\n",
       "    if (event.shiftKey && event.which !== 16) {\n",
       "        value += 'shift+';\n",
       "    }\n",
       "\n",
       "    value += 'k';\n",
       "    value += event.which.toString();\n",
       "\n",
       "    this._key_event_extra(event, name);\n",
       "\n",
       "    this.send_message(name, { key: value, guiEvent: simpleKeys(event) });\n",
       "    return false;\n",
       "};\n",
       "\n",
       "mpl.figure.prototype.toolbar_button_onclick = function (name) {\n",
       "    if (name === 'download') {\n",
       "        this.handle_save(this, null);\n",
       "    } else {\n",
       "        this.send_message('toolbar_button', { name: name });\n",
       "    }\n",
       "};\n",
       "\n",
       "mpl.figure.prototype.toolbar_button_onmouseover = function (tooltip) {\n",
       "    this.message.textContent = tooltip;\n",
       "};\n",
       "\n",
       "///////////////// REMAINING CONTENT GENERATED BY embed_js.py /////////////////\n",
       "// prettier-ignore\n",
       "var _JSXTOOLS_RESIZE_OBSERVER=function(A){var t,i=new WeakMap,n=new WeakMap,a=new WeakMap,r=new WeakMap,o=new Set;function s(e){if(!(this instanceof s))throw new TypeError(\"Constructor requires 'new' operator\");i.set(this,e)}function h(){throw new TypeError(\"Function is not a constructor\")}function c(e,t,i,n){e=0 in arguments?Number(arguments[0]):0,t=1 in arguments?Number(arguments[1]):0,i=2 in arguments?Number(arguments[2]):0,n=3 in arguments?Number(arguments[3]):0,this.right=(this.x=this.left=e)+(this.width=i),this.bottom=(this.y=this.top=t)+(this.height=n),Object.freeze(this)}function d(){t=requestAnimationFrame(d);var s=new WeakMap,p=new Set;o.forEach((function(t){r.get(t).forEach((function(i){var r=t instanceof window.SVGElement,o=a.get(t),d=r?0:parseFloat(o.paddingTop),f=r?0:parseFloat(o.paddingRight),l=r?0:parseFloat(o.paddingBottom),u=r?0:parseFloat(o.paddingLeft),g=r?0:parseFloat(o.borderTopWidth),m=r?0:parseFloat(o.borderRightWidth),w=r?0:parseFloat(o.borderBottomWidth),b=u+f,F=d+l,v=(r?0:parseFloat(o.borderLeftWidth))+m,W=g+w,y=r?0:t.offsetHeight-W-t.clientHeight,E=r?0:t.offsetWidth-v-t.clientWidth,R=b+v,z=F+W,M=r?t.width:parseFloat(o.width)-R-E,O=r?t.height:parseFloat(o.height)-z-y;if(n.has(t)){var k=n.get(t);if(k[0]===M&&k[1]===O)return}n.set(t,[M,O]);var S=Object.create(h.prototype);S.target=t,S.contentRect=new c(u,d,M,O),s.has(i)||(s.set(i,[]),p.add(i)),s.get(i).push(S)}))})),p.forEach((function(e){i.get(e).call(e,s.get(e),e)}))}return s.prototype.observe=function(i){if(i instanceof window.Element){r.has(i)||(r.set(i,new Set),o.add(i),a.set(i,window.getComputedStyle(i)));var n=r.get(i);n.has(this)||n.add(this),cancelAnimationFrame(t),t=requestAnimationFrame(d)}},s.prototype.unobserve=function(i){if(i instanceof window.Element&&r.has(i)){var n=r.get(i);n.has(this)&&(n.delete(this),n.size||(r.delete(i),o.delete(i))),n.size||r.delete(i),o.size||cancelAnimationFrame(t)}},A.DOMRectReadOnly=c,A.ResizeObserver=s,A.ResizeObserverEntry=h,A}; // eslint-disable-line\n",
       "mpl.toolbar_items = [[\"Home\", \"Reset original view\", \"fa fa-home icon-home\", \"home\"], [\"Back\", \"Back to previous view\", \"fa fa-arrow-left icon-arrow-left\", \"back\"], [\"Forward\", \"Forward to next view\", \"fa fa-arrow-right icon-arrow-right\", \"forward\"], [\"\", \"\", \"\", \"\"], [\"Pan\", \"Left button pans, Right button zooms\\nx/y fixes axis, CTRL fixes aspect\", \"fa fa-arrows icon-move\", \"pan\"], [\"Zoom\", \"Zoom to rectangle\\nx/y fixes axis, CTRL fixes aspect\", \"fa fa-square-o icon-check-empty\", \"zoom\"], [\"\", \"\", \"\", \"\"], [\"Download\", \"Download plot\", \"fa fa-floppy-o icon-save\", \"download\"]];\n",
       "\n",
       "mpl.extensions = [\"eps\", \"jpeg\", \"pdf\", \"png\", \"ps\", \"raw\", \"svg\", \"tif\"];\n",
       "\n",
       "mpl.default_extension = \"png\";/* global mpl */\n",
       "\n",
       "var comm_websocket_adapter = function (comm) {\n",
       "    // Create a \"websocket\"-like object which calls the given IPython comm\n",
       "    // object with the appropriate methods. Currently this is a non binary\n",
       "    // socket, so there is still some room for performance tuning.\n",
       "    var ws = {};\n",
       "\n",
       "    ws.close = function () {\n",
       "        comm.close();\n",
       "    };\n",
       "    ws.send = function (m) {\n",
       "        //console.log('sending', m);\n",
       "        comm.send(m);\n",
       "    };\n",
       "    // Register the callback with on_msg.\n",
       "    comm.on_msg(function (msg) {\n",
       "        //console.log('receiving', msg['content']['data'], msg);\n",
       "        // Pass the mpl event to the overridden (by mpl) onmessage function.\n",
       "        ws.onmessage(msg['content']['data']);\n",
       "    });\n",
       "    return ws;\n",
       "};\n",
       "\n",
       "mpl.mpl_figure_comm = function (comm, msg) {\n",
       "    // This is the function which gets called when the mpl process\n",
       "    // starts-up an IPython Comm through the \"matplotlib\" channel.\n",
       "\n",
       "    var id = msg.content.data.id;\n",
       "    // Get hold of the div created by the display call when the Comm\n",
       "    // socket was opened in Python.\n",
       "    var element = document.getElementById(id);\n",
       "    var ws_proxy = comm_websocket_adapter(comm);\n",
       "\n",
       "    function ondownload(figure, _format) {\n",
       "        window.open(figure.canvas.toDataURL());\n",
       "    }\n",
       "\n",
       "    var fig = new mpl.figure(id, ws_proxy, ondownload, element);\n",
       "\n",
       "    // Call onopen now - mpl needs it, as it is assuming we've passed it a real\n",
       "    // web socket which is closed, not our websocket->open comm proxy.\n",
       "    ws_proxy.onopen();\n",
       "\n",
       "    fig.parent_element = element;\n",
       "    fig.cell_info = mpl.find_output_cell(\"<div id='\" + id + \"'></div>\");\n",
       "    if (!fig.cell_info) {\n",
       "        console.error('Failed to find cell for figure', id, fig);\n",
       "        return;\n",
       "    }\n",
       "    fig.cell_info[0].output_area.element.on(\n",
       "        'cleared',\n",
       "        { fig: fig },\n",
       "        fig._remove_fig_handler\n",
       "    );\n",
       "};\n",
       "\n",
       "mpl.figure.prototype.handle_close = function (fig, msg) {\n",
       "    var width = fig.canvas.width / fig.ratio;\n",
       "    fig.cell_info[0].output_area.element.off(\n",
       "        'cleared',\n",
       "        fig._remove_fig_handler\n",
       "    );\n",
       "    fig.resizeObserverInstance.unobserve(fig.canvas_div);\n",
       "\n",
       "    // Update the output cell to use the data from the current canvas.\n",
       "    fig.push_to_output();\n",
       "    var dataURL = fig.canvas.toDataURL();\n",
       "    // Re-enable the keyboard manager in IPython - without this line, in FF,\n",
       "    // the notebook keyboard shortcuts fail.\n",
       "    IPython.keyboard_manager.enable();\n",
       "    fig.parent_element.innerHTML =\n",
       "        '<img src=\"' + dataURL + '\" width=\"' + width + '\">';\n",
       "    fig.close_ws(fig, msg);\n",
       "};\n",
       "\n",
       "mpl.figure.prototype.close_ws = function (fig, msg) {\n",
       "    fig.send_message('closing', msg);\n",
       "    // fig.ws.close()\n",
       "};\n",
       "\n",
       "mpl.figure.prototype.push_to_output = function (_remove_interactive) {\n",
       "    // Turn the data on the canvas into data in the output cell.\n",
       "    var width = this.canvas.width / this.ratio;\n",
       "    var dataURL = this.canvas.toDataURL();\n",
       "    this.cell_info[1]['text/html'] =\n",
       "        '<img src=\"' + dataURL + '\" width=\"' + width + '\">';\n",
       "};\n",
       "\n",
       "mpl.figure.prototype.updated_canvas_event = function () {\n",
       "    // Tell IPython that the notebook contents must change.\n",
       "    IPython.notebook.set_dirty(true);\n",
       "    this.send_message('ack', {});\n",
       "    var fig = this;\n",
       "    // Wait a second, then push the new image to the DOM so\n",
       "    // that it is saved nicely (might be nice to debounce this).\n",
       "    setTimeout(function () {\n",
       "        fig.push_to_output();\n",
       "    }, 1000);\n",
       "};\n",
       "\n",
       "mpl.figure.prototype._init_toolbar = function () {\n",
       "    var fig = this;\n",
       "\n",
       "    var toolbar = document.createElement('div');\n",
       "    toolbar.classList = 'btn-toolbar';\n",
       "    this.root.appendChild(toolbar);\n",
       "\n",
       "    function on_click_closure(name) {\n",
       "        return function (_event) {\n",
       "            return fig.toolbar_button_onclick(name);\n",
       "        };\n",
       "    }\n",
       "\n",
       "    function on_mouseover_closure(tooltip) {\n",
       "        return function (event) {\n",
       "            if (!event.currentTarget.disabled) {\n",
       "                return fig.toolbar_button_onmouseover(tooltip);\n",
       "            }\n",
       "        };\n",
       "    }\n",
       "\n",
       "    fig.buttons = {};\n",
       "    var buttonGroup = document.createElement('div');\n",
       "    buttonGroup.classList = 'btn-group';\n",
       "    var button;\n",
       "    for (var toolbar_ind in mpl.toolbar_items) {\n",
       "        var name = mpl.toolbar_items[toolbar_ind][0];\n",
       "        var tooltip = mpl.toolbar_items[toolbar_ind][1];\n",
       "        var image = mpl.toolbar_items[toolbar_ind][2];\n",
       "        var method_name = mpl.toolbar_items[toolbar_ind][3];\n",
       "\n",
       "        if (!name) {\n",
       "            /* Instead of a spacer, we start a new button group. */\n",
       "            if (buttonGroup.hasChildNodes()) {\n",
       "                toolbar.appendChild(buttonGroup);\n",
       "            }\n",
       "            buttonGroup = document.createElement('div');\n",
       "            buttonGroup.classList = 'btn-group';\n",
       "            continue;\n",
       "        }\n",
       "\n",
       "        button = fig.buttons[name] = document.createElement('button');\n",
       "        button.classList = 'btn btn-default';\n",
       "        button.href = '#';\n",
       "        button.title = name;\n",
       "        button.innerHTML = '<i class=\"fa ' + image + ' fa-lg\"></i>';\n",
       "        button.addEventListener('click', on_click_closure(method_name));\n",
       "        button.addEventListener('mouseover', on_mouseover_closure(tooltip));\n",
       "        buttonGroup.appendChild(button);\n",
       "    }\n",
       "\n",
       "    if (buttonGroup.hasChildNodes()) {\n",
       "        toolbar.appendChild(buttonGroup);\n",
       "    }\n",
       "\n",
       "    // Add the status bar.\n",
       "    var status_bar = document.createElement('span');\n",
       "    status_bar.classList = 'mpl-message pull-right';\n",
       "    toolbar.appendChild(status_bar);\n",
       "    this.message = status_bar;\n",
       "\n",
       "    // Add the close button to the window.\n",
       "    var buttongrp = document.createElement('div');\n",
       "    buttongrp.classList = 'btn-group inline pull-right';\n",
       "    button = document.createElement('button');\n",
       "    button.classList = 'btn btn-mini btn-primary';\n",
       "    button.href = '#';\n",
       "    button.title = 'Stop Interaction';\n",
       "    button.innerHTML = '<i class=\"fa fa-power-off icon-remove icon-large\"></i>';\n",
       "    button.addEventListener('click', function (_evt) {\n",
       "        fig.handle_close(fig, {});\n",
       "    });\n",
       "    button.addEventListener(\n",
       "        'mouseover',\n",
       "        on_mouseover_closure('Stop Interaction')\n",
       "    );\n",
       "    buttongrp.appendChild(button);\n",
       "    var titlebar = this.root.querySelector('.ui-dialog-titlebar');\n",
       "    titlebar.insertBefore(buttongrp, titlebar.firstChild);\n",
       "};\n",
       "\n",
       "mpl.figure.prototype._remove_fig_handler = function (event) {\n",
       "    var fig = event.data.fig;\n",
       "    if (event.target !== this) {\n",
       "        // Ignore bubbled events from children.\n",
       "        return;\n",
       "    }\n",
       "    fig.close_ws(fig, {});\n",
       "};\n",
       "\n",
       "mpl.figure.prototype._root_extra_style = function (el) {\n",
       "    el.style.boxSizing = 'content-box'; // override notebook setting of border-box.\n",
       "};\n",
       "\n",
       "mpl.figure.prototype._canvas_extra_style = function (el) {\n",
       "    // this is important to make the div 'focusable\n",
       "    el.setAttribute('tabindex', 0);\n",
       "    // reach out to IPython and tell the keyboard manager to turn it's self\n",
       "    // off when our div gets focus\n",
       "\n",
       "    // location in version 3\n",
       "    if (IPython.notebook.keyboard_manager) {\n",
       "        IPython.notebook.keyboard_manager.register_events(el);\n",
       "    } else {\n",
       "        // location in version 2\n",
       "        IPython.keyboard_manager.register_events(el);\n",
       "    }\n",
       "};\n",
       "\n",
       "mpl.figure.prototype._key_event_extra = function (event, _name) {\n",
       "    var manager = IPython.notebook.keyboard_manager;\n",
       "    if (!manager) {\n",
       "        manager = IPython.keyboard_manager;\n",
       "    }\n",
       "\n",
       "    // Check for shift+enter\n",
       "    if (event.shiftKey && event.which === 13) {\n",
       "        this.canvas_div.blur();\n",
       "        // select the cell after this one\n",
       "        var index = IPython.notebook.find_cell_index(this.cell_info[0]);\n",
       "        IPython.notebook.select(index + 1);\n",
       "    }\n",
       "};\n",
       "\n",
       "mpl.figure.prototype.handle_save = function (fig, _msg) {\n",
       "    fig.ondownload(fig, null);\n",
       "};\n",
       "\n",
       "mpl.find_output_cell = function (html_output) {\n",
       "    // Return the cell and output element which can be found *uniquely* in the notebook.\n",
       "    // Note - this is a bit hacky, but it is done because the \"notebook_saving.Notebook\"\n",
       "    // IPython event is triggered only after the cells have been serialised, which for\n",
       "    // our purposes (turning an active figure into a static one), is too late.\n",
       "    var cells = IPython.notebook.get_cells();\n",
       "    var ncells = cells.length;\n",
       "    for (var i = 0; i < ncells; i++) {\n",
       "        var cell = cells[i];\n",
       "        if (cell.cell_type === 'code') {\n",
       "            for (var j = 0; j < cell.output_area.outputs.length; j++) {\n",
       "                var data = cell.output_area.outputs[j];\n",
       "                if (data.data) {\n",
       "                    // IPython >= 3 moved mimebundle to data attribute of output\n",
       "                    data = data.data;\n",
       "                }\n",
       "                if (data['text/html'] === html_output) {\n",
       "                    return [cell, data, j];\n",
       "                }\n",
       "            }\n",
       "        }\n",
       "    }\n",
       "};\n",
       "\n",
       "// Register the function which deals with the matplotlib target/channel.\n",
       "// The kernel may be null if the page has been refreshed.\n",
       "if (IPython.notebook.kernel !== null) {\n",
       "    IPython.notebook.kernel.comm_manager.register_target(\n",
       "        'matplotlib',\n",
       "        mpl.mpl_figure_comm\n",
       "    );\n",
       "}\n"
      ],
      "text/plain": [
       "<IPython.core.display.Javascript object>"
      ]
     },
     "metadata": {},
     "output_type": "display_data"
    },
    {
     "data": {
      "text/html": [
       "<img src=\"data:image/png;base64,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\" width=\"640\">"
      ],
      "text/plain": [
       "<IPython.core.display.HTML object>"
      ]
     },
     "metadata": {},
     "output_type": "display_data"
    }
   ],
   "source": [
    "\n",
    "for method_name in list(result_list.keys()):\n",
    "    plt.plot([x/10 for x in list(range(1,(len(result_list[method_name])+1),1))],result_list[method_name],label=method_name)\n",
    "\n",
    "plt.ylim(0,1)\n",
    "plt.xlabel('pct of edges deleted')\n",
    "plt.ylabel('nodes remind un-infected')\n",
    "plt.legend()\n",
    "plt.show()\n",
    "    "
   ]
  },
  {
   "cell_type": "markdown",
   "metadata": {},
   "source": [
    "# Comparison of Motifs"
   ]
  },
  {
   "cell_type": "code",
   "execution_count": 32,
   "metadata": {},
   "outputs": [],
   "source": [
    "W=nx.to_numpy_matrix(G)"
   ]
  },
  {
   "cell_type": "code",
   "execution_count": 33,
   "metadata": {},
   "outputs": [],
   "source": [
    "k=1"
   ]
  },
  {
   "cell_type": "code",
   "execution_count": 34,
   "metadata": {},
   "outputs": [
    {
     "name": "stderr",
     "output_type": "stream",
     "text": [
      "100%|██████████| 1000/1000 [00:04<00:00, 234.92it/s]\n",
      "  2%|▏         | 21/1000 [00:00<00:04, 205.66it/s]"
     ]
    },
    {
     "name": "stdout",
     "output_type": "stream",
     "text": [
      "pct of edge deleted:0.1\n"
     ]
    },
    {
     "name": "stderr",
     "output_type": "stream",
     "text": [
      "100%|██████████| 1000/1000 [00:04<00:00, 232.50it/s]\n",
      "  4%|▍         | 45/1000 [00:00<00:04, 219.50it/s]"
     ]
    },
    {
     "name": "stdout",
     "output_type": "stream",
     "text": [
      "pct of edge deleted:0.2\n"
     ]
    },
    {
     "name": "stderr",
     "output_type": "stream",
     "text": [
      "100%|██████████| 1000/1000 [00:04<00:00, 235.35it/s]\n",
      "  2%|▏         | 21/1000 [00:00<00:04, 207.33it/s]"
     ]
    },
    {
     "name": "stdout",
     "output_type": "stream",
     "text": [
      "pct of edge deleted:0.3\n"
     ]
    },
    {
     "name": "stderr",
     "output_type": "stream",
     "text": [
      "100%|██████████| 1000/1000 [00:04<00:00, 229.38it/s]\n",
      "  2%|▏         | 22/1000 [00:00<00:04, 216.73it/s]"
     ]
    },
    {
     "name": "stdout",
     "output_type": "stream",
     "text": [
      "pct of edge deleted:0.4\n"
     ]
    },
    {
     "name": "stderr",
     "output_type": "stream",
     "text": [
      "100%|██████████| 1000/1000 [00:04<00:00, 221.58it/s]\n",
      "  2%|▏         | 21/1000 [00:00<00:04, 209.96it/s]"
     ]
    },
    {
     "name": "stdout",
     "output_type": "stream",
     "text": [
      "pct of edge deleted:0.5\n"
     ]
    },
    {
     "name": "stderr",
     "output_type": "stream",
     "text": [
      "100%|██████████| 1000/1000 [00:04<00:00, 214.81it/s]\n",
      "  2%|▏         | 23/1000 [00:00<00:04, 223.13it/s]"
     ]
    },
    {
     "name": "stdout",
     "output_type": "stream",
     "text": [
      "pct of edge deleted:0.6\n"
     ]
    },
    {
     "name": "stderr",
     "output_type": "stream",
     "text": [
      "100%|██████████| 1000/1000 [00:04<00:00, 213.58it/s]\n",
      "  2%|▏         | 24/1000 [00:00<00:04, 232.70it/s]"
     ]
    },
    {
     "name": "stdout",
     "output_type": "stream",
     "text": [
      "pct of edge deleted:0.7\n"
     ]
    },
    {
     "name": "stderr",
     "output_type": "stream",
     "text": [
      "100%|██████████| 1000/1000 [00:04<00:00, 223.79it/s]\n",
      "  2%|▎         | 25/1000 [00:00<00:04, 240.67it/s]"
     ]
    },
    {
     "name": "stdout",
     "output_type": "stream",
     "text": [
      "pct of edge deleted:0.8\n"
     ]
    },
    {
     "name": "stderr",
     "output_type": "stream",
     "text": [
      "100%|██████████| 1000/1000 [00:04<00:00, 234.05it/s]\n"
     ]
    },
    {
     "name": "stdout",
     "output_type": "stream",
     "text": [
      "pct of edge deleted:0.9\n"
     ]
    },
    {
     "name": "stderr",
     "output_type": "stream",
     "text": [
      "100%|██████████| 1000/1000 [00:04<00:00, 231.05it/s]\n",
      "  4%|▍         | 41/1000 [00:00<00:04, 203.46it/s]"
     ]
    },
    {
     "name": "stdout",
     "output_type": "stream",
     "text": [
      "pct of edge deleted:0.1\n"
     ]
    },
    {
     "name": "stderr",
     "output_type": "stream",
     "text": [
      "100%|██████████| 1000/1000 [00:04<00:00, 231.45it/s]\n",
      "  2%|▏         | 21/1000 [00:00<00:04, 201.57it/s]"
     ]
    },
    {
     "name": "stdout",
     "output_type": "stream",
     "text": [
      "pct of edge deleted:0.2\n"
     ]
    },
    {
     "name": "stderr",
     "output_type": "stream",
     "text": [
      "100%|██████████| 1000/1000 [00:04<00:00, 227.92it/s]\n",
      "  2%|▏         | 21/1000 [00:00<00:04, 200.94it/s]"
     ]
    },
    {
     "name": "stdout",
     "output_type": "stream",
     "text": [
      "pct of edge deleted:0.3\n"
     ]
    },
    {
     "name": "stderr",
     "output_type": "stream",
     "text": [
      "100%|██████████| 1000/1000 [00:04<00:00, 220.29it/s]\n",
      "  2%|▏         | 22/1000 [00:00<00:04, 213.26it/s]"
     ]
    },
    {
     "name": "stdout",
     "output_type": "stream",
     "text": [
      "pct of edge deleted:0.4\n"
     ]
    },
    {
     "name": "stderr",
     "output_type": "stream",
     "text": [
      "100%|██████████| 1000/1000 [00:04<00:00, 214.47it/s]\n",
      "  2%|▏         | 22/1000 [00:00<00:04, 213.83it/s]"
     ]
    },
    {
     "name": "stdout",
     "output_type": "stream",
     "text": [
      "pct of edge deleted:0.5\n"
     ]
    },
    {
     "name": "stderr",
     "output_type": "stream",
     "text": [
      "100%|██████████| 1000/1000 [00:04<00:00, 211.89it/s]\n",
      "  2%|▏         | 22/1000 [00:00<00:04, 215.05it/s]"
     ]
    },
    {
     "name": "stdout",
     "output_type": "stream",
     "text": [
      "pct of edge deleted:0.6\n"
     ]
    },
    {
     "name": "stderr",
     "output_type": "stream",
     "text": [
      "100%|██████████| 1000/1000 [00:04<00:00, 212.02it/s]\n",
      "  2%|▏         | 23/1000 [00:00<00:04, 227.97it/s]"
     ]
    },
    {
     "name": "stdout",
     "output_type": "stream",
     "text": [
      "pct of edge deleted:0.7\n"
     ]
    },
    {
     "name": "stderr",
     "output_type": "stream",
     "text": [
      "100%|██████████| 1000/1000 [00:04<00:00, 216.16it/s]\n",
      "  2%|▏         | 24/1000 [00:00<00:04, 235.97it/s]"
     ]
    },
    {
     "name": "stdout",
     "output_type": "stream",
     "text": [
      "pct of edge deleted:0.8\n"
     ]
    },
    {
     "name": "stderr",
     "output_type": "stream",
     "text": [
      "100%|██████████| 1000/1000 [00:04<00:00, 229.34it/s]\n"
     ]
    },
    {
     "name": "stdout",
     "output_type": "stream",
     "text": [
      "pct of edge deleted:0.9\n"
     ]
    },
    {
     "name": "stderr",
     "output_type": "stream",
     "text": [
      "100%|██████████| 1000/1000 [00:04<00:00, 227.13it/s]\n",
      "  2%|▏         | 20/1000 [00:00<00:04, 198.99it/s]"
     ]
    },
    {
     "name": "stdout",
     "output_type": "stream",
     "text": [
      "pct of edge deleted:0.1\n"
     ]
    },
    {
     "name": "stderr",
     "output_type": "stream",
     "text": [
      "100%|██████████| 1000/1000 [00:04<00:00, 226.43it/s]\n",
      "  4%|▍         | 42/1000 [00:00<00:04, 202.52it/s]"
     ]
    },
    {
     "name": "stdout",
     "output_type": "stream",
     "text": [
      "pct of edge deleted:0.2\n"
     ]
    },
    {
     "name": "stderr",
     "output_type": "stream",
     "text": [
      "100%|██████████| 1000/1000 [00:04<00:00, 226.57it/s]\n",
      "  2%|▏         | 21/1000 [00:00<00:04, 207.25it/s]"
     ]
    },
    {
     "name": "stdout",
     "output_type": "stream",
     "text": [
      "pct of edge deleted:0.3\n"
     ]
    },
    {
     "name": "stderr",
     "output_type": "stream",
     "text": [
      "100%|██████████| 1000/1000 [00:04<00:00, 224.32it/s]\n",
      "  4%|▍         | 42/1000 [00:00<00:04, 208.10it/s]"
     ]
    },
    {
     "name": "stdout",
     "output_type": "stream",
     "text": [
      "pct of edge deleted:0.4\n"
     ]
    },
    {
     "name": "stderr",
     "output_type": "stream",
     "text": [
      "100%|██████████| 1000/1000 [00:04<00:00, 222.00it/s]\n",
      "  2%|▏         | 23/1000 [00:00<00:04, 220.47it/s]"
     ]
    },
    {
     "name": "stdout",
     "output_type": "stream",
     "text": [
      "pct of edge deleted:0.5\n"
     ]
    },
    {
     "name": "stderr",
     "output_type": "stream",
     "text": [
      "100%|██████████| 1000/1000 [00:04<00:00, 218.55it/s]\n",
      "  2%|▏         | 23/1000 [00:00<00:04, 224.94it/s]"
     ]
    },
    {
     "name": "stdout",
     "output_type": "stream",
     "text": [
      "pct of edge deleted:0.6\n"
     ]
    },
    {
     "name": "stderr",
     "output_type": "stream",
     "text": [
      "100%|██████████| 1000/1000 [00:04<00:00, 220.29it/s]\n",
      "  2%|▏         | 24/1000 [00:00<00:04, 237.67it/s]"
     ]
    },
    {
     "name": "stdout",
     "output_type": "stream",
     "text": [
      "pct of edge deleted:0.7\n"
     ]
    },
    {
     "name": "stderr",
     "output_type": "stream",
     "text": [
      "100%|██████████| 1000/1000 [00:04<00:00, 227.11it/s]\n",
      "  3%|▎         | 26/1000 [00:00<00:03, 250.50it/s]"
     ]
    },
    {
     "name": "stdout",
     "output_type": "stream",
     "text": [
      "pct of edge deleted:0.8\n"
     ]
    },
    {
     "name": "stderr",
     "output_type": "stream",
     "text": [
      "100%|██████████| 1000/1000 [00:04<00:00, 234.36it/s]\n"
     ]
    },
    {
     "name": "stdout",
     "output_type": "stream",
     "text": [
      "pct of edge deleted:0.9\n"
     ]
    },
    {
     "name": "stderr",
     "output_type": "stream",
     "text": [
      "100%|██████████| 1000/1000 [00:04<00:00, 230.70it/s]\n",
      "  4%|▍         | 43/1000 [00:00<00:04, 210.67it/s]"
     ]
    },
    {
     "name": "stdout",
     "output_type": "stream",
     "text": [
      "pct of edge deleted:0.1\n"
     ]
    },
    {
     "name": "stderr",
     "output_type": "stream",
     "text": [
      "100%|██████████| 1000/1000 [00:04<00:00, 230.20it/s]\n",
      "  2%|▏         | 21/1000 [00:00<00:04, 204.11it/s]"
     ]
    },
    {
     "name": "stdout",
     "output_type": "stream",
     "text": [
      "pct of edge deleted:0.2\n"
     ]
    },
    {
     "name": "stderr",
     "output_type": "stream",
     "text": [
      "100%|██████████| 1000/1000 [00:04<00:00, 223.25it/s]\n",
      "  2%|▏         | 20/1000 [00:00<00:05, 195.05it/s]"
     ]
    },
    {
     "name": "stdout",
     "output_type": "stream",
     "text": [
      "pct of edge deleted:0.3\n"
     ]
    },
    {
     "name": "stderr",
     "output_type": "stream",
     "text": [
      "100%|██████████| 1000/1000 [00:04<00:00, 218.33it/s]\n",
      "  2%|▏         | 22/1000 [00:00<00:04, 211.80it/s]"
     ]
    },
    {
     "name": "stdout",
     "output_type": "stream",
     "text": [
      "pct of edge deleted:0.4\n"
     ]
    },
    {
     "name": "stderr",
     "output_type": "stream",
     "text": [
      "100%|██████████| 1000/1000 [00:04<00:00, 216.41it/s]\n",
      "  2%|▏         | 21/1000 [00:00<00:04, 206.68it/s]"
     ]
    },
    {
     "name": "stdout",
     "output_type": "stream",
     "text": [
      "pct of edge deleted:0.5\n"
     ]
    },
    {
     "name": "stderr",
     "output_type": "stream",
     "text": [
      "100%|██████████| 1000/1000 [00:04<00:00, 205.96it/s]\n",
      "  2%|▏         | 23/1000 [00:00<00:04, 224.26it/s]"
     ]
    },
    {
     "name": "stdout",
     "output_type": "stream",
     "text": [
      "pct of edge deleted:0.6\n"
     ]
    },
    {
     "name": "stderr",
     "output_type": "stream",
     "text": [
      "100%|██████████| 1000/1000 [00:04<00:00, 212.68it/s]\n",
      "  2%|▏         | 24/1000 [00:00<00:04, 232.08it/s]"
     ]
    },
    {
     "name": "stdout",
     "output_type": "stream",
     "text": [
      "pct of edge deleted:0.7\n"
     ]
    },
    {
     "name": "stderr",
     "output_type": "stream",
     "text": [
      "100%|██████████| 1000/1000 [00:04<00:00, 220.87it/s]\n",
      "  2%|▏         | 24/1000 [00:00<00:04, 238.88it/s]"
     ]
    },
    {
     "name": "stdout",
     "output_type": "stream",
     "text": [
      "pct of edge deleted:0.8\n"
     ]
    },
    {
     "name": "stderr",
     "output_type": "stream",
     "text": [
      "100%|██████████| 1000/1000 [00:04<00:00, 233.60it/s]\n"
     ]
    },
    {
     "name": "stdout",
     "output_type": "stream",
     "text": [
      "pct of edge deleted:0.9\n"
     ]
    },
    {
     "name": "stderr",
     "output_type": "stream",
     "text": [
      "100%|██████████| 1000/1000 [00:04<00:00, 232.52it/s]\n",
      "  2%|▏         | 21/1000 [00:00<00:04, 202.54it/s]"
     ]
    },
    {
     "name": "stdout",
     "output_type": "stream",
     "text": [
      "pct of edge deleted:0.1\n"
     ]
    },
    {
     "name": "stderr",
     "output_type": "stream",
     "text": [
      "100%|██████████| 1000/1000 [00:04<00:00, 232.35it/s]\n",
      "  4%|▍         | 43/1000 [00:00<00:04, 208.78it/s]"
     ]
    },
    {
     "name": "stdout",
     "output_type": "stream",
     "text": [
      "pct of edge deleted:0.2\n"
     ]
    },
    {
     "name": "stderr",
     "output_type": "stream",
     "text": [
      "100%|██████████| 1000/1000 [00:04<00:00, 227.06it/s]\n",
      "  2%|▏         | 22/1000 [00:00<00:04, 212.03it/s]"
     ]
    },
    {
     "name": "stdout",
     "output_type": "stream",
     "text": [
      "pct of edge deleted:0.3\n"
     ]
    },
    {
     "name": "stderr",
     "output_type": "stream",
     "text": [
      "100%|██████████| 1000/1000 [00:04<00:00, 227.93it/s]\n",
      "  2%|▏         | 22/1000 [00:00<00:04, 211.21it/s]"
     ]
    },
    {
     "name": "stdout",
     "output_type": "stream",
     "text": [
      "pct of edge deleted:0.4\n"
     ]
    },
    {
     "name": "stderr",
     "output_type": "stream",
     "text": [
      "100%|██████████| 1000/1000 [00:04<00:00, 216.74it/s]\n",
      "  2%|▏         | 23/1000 [00:00<00:04, 220.31it/s]"
     ]
    },
    {
     "name": "stdout",
     "output_type": "stream",
     "text": [
      "pct of edge deleted:0.5\n"
     ]
    },
    {
     "name": "stderr",
     "output_type": "stream",
     "text": [
      "100%|██████████| 1000/1000 [00:04<00:00, 219.08it/s]\n",
      "  2%|▏         | 23/1000 [00:00<00:04, 222.46it/s]"
     ]
    },
    {
     "name": "stdout",
     "output_type": "stream",
     "text": [
      "pct of edge deleted:0.6\n"
     ]
    },
    {
     "name": "stderr",
     "output_type": "stream",
     "text": [
      "100%|██████████| 1000/1000 [00:04<00:00, 213.29it/s]\n",
      "  2%|▏         | 22/1000 [00:00<00:04, 216.73it/s]"
     ]
    },
    {
     "name": "stdout",
     "output_type": "stream",
     "text": [
      "pct of edge deleted:0.7\n"
     ]
    },
    {
     "name": "stderr",
     "output_type": "stream",
     "text": [
      "100%|██████████| 1000/1000 [00:04<00:00, 227.33it/s]\n",
      "  2%|▎         | 25/1000 [00:00<00:03, 249.68it/s]"
     ]
    },
    {
     "name": "stdout",
     "output_type": "stream",
     "text": [
      "pct of edge deleted:0.8\n"
     ]
    },
    {
     "name": "stderr",
     "output_type": "stream",
     "text": [
      "100%|██████████| 1000/1000 [00:04<00:00, 235.92it/s]\n"
     ]
    },
    {
     "name": "stdout",
     "output_type": "stream",
     "text": [
      "pct of edge deleted:0.9\n"
     ]
    },
    {
     "name": "stderr",
     "output_type": "stream",
     "text": [
      "100%|██████████| 1000/1000 [00:04<00:00, 238.57it/s]\n",
      "  4%|▍         | 43/1000 [00:00<00:04, 209.32it/s]"
     ]
    },
    {
     "name": "stdout",
     "output_type": "stream",
     "text": [
      "pct of edge deleted:0.1\n"
     ]
    },
    {
     "name": "stderr",
     "output_type": "stream",
     "text": [
      "100%|██████████| 1000/1000 [00:04<00:00, 234.27it/s]\n",
      "  2%|▏         | 21/1000 [00:00<00:04, 207.79it/s]"
     ]
    },
    {
     "name": "stdout",
     "output_type": "stream",
     "text": [
      "pct of edge deleted:0.2\n"
     ]
    },
    {
     "name": "stderr",
     "output_type": "stream",
     "text": [
      "100%|██████████| 1000/1000 [00:04<00:00, 235.96it/s]\n",
      "  2%|▏         | 21/1000 [00:00<00:04, 206.48it/s]"
     ]
    },
    {
     "name": "stdout",
     "output_type": "stream",
     "text": [
      "pct of edge deleted:0.3\n"
     ]
    },
    {
     "name": "stderr",
     "output_type": "stream",
     "text": [
      "100%|██████████| 1000/1000 [00:04<00:00, 230.07it/s]\n",
      "  2%|▏         | 22/1000 [00:00<00:04, 210.55it/s]"
     ]
    },
    {
     "name": "stdout",
     "output_type": "stream",
     "text": [
      "pct of edge deleted:0.4\n"
     ]
    },
    {
     "name": "stderr",
     "output_type": "stream",
     "text": [
      "100%|██████████| 1000/1000 [00:04<00:00, 221.91it/s]\n",
      "  2%|▏         | 23/1000 [00:00<00:04, 229.55it/s]"
     ]
    },
    {
     "name": "stdout",
     "output_type": "stream",
     "text": [
      "pct of edge deleted:0.5\n"
     ]
    },
    {
     "name": "stderr",
     "output_type": "stream",
     "text": [
      "100%|██████████| 1000/1000 [00:04<00:00, 217.68it/s]\n",
      "  2%|▏         | 22/1000 [00:00<00:04, 218.05it/s]"
     ]
    },
    {
     "name": "stdout",
     "output_type": "stream",
     "text": [
      "pct of edge deleted:0.6\n"
     ]
    },
    {
     "name": "stderr",
     "output_type": "stream",
     "text": [
      "100%|██████████| 1000/1000 [00:04<00:00, 221.98it/s]\n",
      "  2%|▏         | 24/1000 [00:00<00:04, 237.34it/s]"
     ]
    },
    {
     "name": "stdout",
     "output_type": "stream",
     "text": [
      "pct of edge deleted:0.7\n"
     ]
    },
    {
     "name": "stderr",
     "output_type": "stream",
     "text": [
      "100%|██████████| 1000/1000 [00:04<00:00, 230.03it/s]\n",
      "  2%|▎         | 25/1000 [00:00<00:03, 248.56it/s]"
     ]
    },
    {
     "name": "stdout",
     "output_type": "stream",
     "text": [
      "pct of edge deleted:0.8\n"
     ]
    },
    {
     "name": "stderr",
     "output_type": "stream",
     "text": [
      "100%|██████████| 1000/1000 [00:04<00:00, 240.13it/s]\n"
     ]
    },
    {
     "name": "stdout",
     "output_type": "stream",
     "text": [
      "pct of edge deleted:0.9\n"
     ]
    },
    {
     "name": "stderr",
     "output_type": "stream",
     "text": [
      "100%|██████████| 1000/1000 [00:04<00:00, 239.12it/s]\n",
      "  4%|▍         | 43/1000 [00:00<00:04, 214.41it/s]"
     ]
    },
    {
     "name": "stdout",
     "output_type": "stream",
     "text": [
      "pct of edge deleted:0.1\n"
     ]
    },
    {
     "name": "stderr",
     "output_type": "stream",
     "text": [
      "100%|██████████| 1000/1000 [00:04<00:00, 230.44it/s]\n",
      "  4%|▍         | 43/1000 [00:00<00:04, 213.06it/s]"
     ]
    },
    {
     "name": "stdout",
     "output_type": "stream",
     "text": [
      "pct of edge deleted:0.2\n"
     ]
    },
    {
     "name": "stderr",
     "output_type": "stream",
     "text": [
      "100%|██████████| 1000/1000 [00:04<00:00, 232.22it/s]\n",
      "  4%|▍         | 44/1000 [00:00<00:04, 215.28it/s]"
     ]
    },
    {
     "name": "stdout",
     "output_type": "stream",
     "text": [
      "pct of edge deleted:0.3\n"
     ]
    },
    {
     "name": "stderr",
     "output_type": "stream",
     "text": [
      "100%|██████████| 1000/1000 [00:04<00:00, 228.48it/s]\n",
      "  2%|▏         | 23/1000 [00:00<00:04, 221.53it/s]"
     ]
    },
    {
     "name": "stdout",
     "output_type": "stream",
     "text": [
      "pct of edge deleted:0.4\n"
     ]
    },
    {
     "name": "stderr",
     "output_type": "stream",
     "text": [
      "100%|██████████| 1000/1000 [00:04<00:00, 224.90it/s]\n",
      "  5%|▍         | 46/1000 [00:00<00:04, 220.13it/s]"
     ]
    },
    {
     "name": "stdout",
     "output_type": "stream",
     "text": [
      "pct of edge deleted:0.5\n"
     ]
    },
    {
     "name": "stderr",
     "output_type": "stream",
     "text": [
      "100%|██████████| 1000/1000 [00:04<00:00, 216.59it/s]\n",
      "  2%|▏         | 22/1000 [00:00<00:04, 219.81it/s]"
     ]
    },
    {
     "name": "stdout",
     "output_type": "stream",
     "text": [
      "pct of edge deleted:0.6\n"
     ]
    },
    {
     "name": "stderr",
     "output_type": "stream",
     "text": [
      "100%|██████████| 1000/1000 [00:04<00:00, 220.29it/s]\n",
      "  2%|▏         | 24/1000 [00:00<00:04, 237.82it/s]"
     ]
    },
    {
     "name": "stdout",
     "output_type": "stream",
     "text": [
      "pct of edge deleted:0.7\n"
     ]
    },
    {
     "name": "stderr",
     "output_type": "stream",
     "text": [
      "100%|██████████| 1000/1000 [00:04<00:00, 222.16it/s]\n",
      "  2%|▏         | 24/1000 [00:00<00:04, 238.42it/s]"
     ]
    },
    {
     "name": "stdout",
     "output_type": "stream",
     "text": [
      "pct of edge deleted:0.8\n"
     ]
    },
    {
     "name": "stderr",
     "output_type": "stream",
     "text": [
      "100%|██████████| 1000/1000 [00:04<00:00, 232.20it/s]"
     ]
    },
    {
     "name": "stdout",
     "output_type": "stream",
     "text": [
      "pct of edge deleted:0.9\n"
     ]
    },
    {
     "name": "stderr",
     "output_type": "stream",
     "text": [
      "\n"
     ]
    }
   ],
   "source": [
    "for m in [1,2,3,4,5,6,7]:\n",
    "    C=motif_computation(m,W)\n",
    "    W_M=np.multiply(1/(C+1),W)\n",
    "\n",
    "    edgeList=list(G.edges())\n",
    "\n",
    "    G_weighted=nx.DiGraph()\n",
    "\n",
    "    for item in edgeList:\n",
    "        a=list(G.nodes()).index(item[0])\n",
    "        b=list(G.nodes()).index(item[1])\n",
    "        G_weighted.add_edge(a,b,weight=W_M[a,b])\n",
    "\n",
    "    np.sort(list(G_weighted.nodes()))\n",
    "\n",
    "    len(G.nodes())\n",
    "\n",
    "    edge_betweenness_w=nx.edge_betweenness_centrality(G,weight='weight')\n",
    "\n",
    "    edge_betweenness_ws=sorted(edge_betweenness_w.items(),key=lambda item:item[1],reverse=True)\n",
    "\n",
    "    f=open('../centralities/'+net_name+'M'+str(m)+'.txt','w')\n",
    "\n",
    "    for item in edge_betweenness_ws:\n",
    "        f.write(item[0][0]+' '+item[0][1]+' '+str(item[1])+'\\n')\n",
    "    f.close()\n",
    "    del edge_betweenness_w,edge_betweenness_ws\n",
    "    \n",
    "    tmp='M'+str(m)\n",
    "\n",
    "    edge_betweenness_w=pd.read_csv('../centralities/'+net_name+'M'+str(m)+'.txt',header=None,sep=' ')\n",
    "\n",
    "    edge_betweenness_w=np.array(edge_betweenness_w)\n",
    "    edge_betweenness_w=edge_betweenness_w.tolist()\n",
    "\n",
    "    drawCutEdge(edge_betweenness_w,G,tmp)\n",
    "    del edge_betweenness_w\n",
    "\n",
    "    f=open('../output/'+net_name+'M'+str(m)+'.txt','w')\n",
    "    f.write(str(trend_list))\n",
    "    f.close()\n",
    "    output_list['M'+str(m)]=trend_list\n",
    "    trend_list={}\n",
    "    k=k+1"
   ]
  }
 ],
 "metadata": {
  "kernelspec": {
   "display_name": "Python 3",
   "language": "python",
   "name": "python3"
  },
  "language_info": {
   "codemirror_mode": {
    "name": "ipython",
    "version": 3
   },
   "file_extension": ".py",
   "mimetype": "text/x-python",
   "name": "python",
   "nbconvert_exporter": "python",
   "pygments_lexer": "ipython3",
   "version": "3.6.9"
  }
 },
 "nbformat": 4,
 "nbformat_minor": 2
}
